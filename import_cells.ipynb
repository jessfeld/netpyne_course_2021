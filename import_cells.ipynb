{
  "nbformat": 4,
  "nbformat_minor": 0,
  "metadata": {
    "colab": {
      "name": "import_cells.ipynb",
      "provenance": [],
      "collapsed_sections": [],
      "include_colab_link": true
    },
    "kernelspec": {
      "display_name": "Python 3",
      "name": "python3"
    },
    "language_info": {
      "name": "python"
    }
  },
  "cells": [
    {
      "cell_type": "markdown",
      "metadata": {
        "id": "view-in-github",
        "colab_type": "text"
      },
      "source": [
        "<a href=\"https://colab.research.google.com/github/jessfeld/netpyne_course_2021/blob/main/import_cells.ipynb\" target=\"_parent\"><img src=\"https://colab.research.google.com/assets/colab-badge.svg\" alt=\"Open In Colab\"/></a>"
      ]
    },
    {
      "cell_type": "markdown",
      "metadata": {
        "id": "w9C_oSQMlOk6"
      },
      "source": [
        ""
      ]
    },
    {
      "cell_type": "markdown",
      "metadata": {
        "id": "1D0ac1IoGgK3"
      },
      "source": [
        "## [Importing Cells in NetPyNE](http://www.netpyne.org/advanced.html#importing-externally-defined-cell-models)"
      ]
    },
    {
      "cell_type": "markdown",
      "metadata": {
        "id": "kuadoljGzB42"
      },
      "source": [
        "# (1) Clone repository and compile mod files"
      ]
    },
    {
      "cell_type": "markdown",
      "metadata": {
        "id": "2524ntBdiIX0"
      },
      "source": [
        "**Determine your location in the directory structure**"
      ]
    },
    {
      "cell_type": "code",
      "metadata": {
        "id": "1rb_fiCxgHc7"
      },
      "source": [
        "!pwd"
      ],
      "execution_count": null,
      "outputs": []
    },
    {
      "cell_type": "markdown",
      "metadata": {
        "id": "EX3ttB4yiOEm"
      },
      "source": [
        "**Move to (or stay in) the '/content' directory**"
      ]
    },
    {
      "cell_type": "code",
      "metadata": {
        "id": "9HvQwqOSgJCL"
      },
      "source": [
        "cd /content/"
      ],
      "execution_count": null,
      "outputs": []
    },
    {
      "cell_type": "markdown",
      "metadata": {
        "id": "OTLrxa59idMP"
      },
      "source": [
        "**Ensure you are in the correct directory** --> *Expected output: \"/content\"*"
      ]
    },
    {
      "cell_type": "code",
      "metadata": {
        "id": "US3QZfpGhJzw"
      },
      "source": [
        "!pwd"
      ],
      "execution_count": null,
      "outputs": []
    },
    {
      "cell_type": "markdown",
      "metadata": {
        "id": "SaN1cXqxioFg"
      },
      "source": [
        "**Install NEURON and NetPyNE, and import matplotlib**"
      ]
    },
    {
      "cell_type": "code",
      "metadata": {
        "id": "e7F4tIIhFpfJ"
      },
      "source": [
        "!pip install neuron\n",
        "!pip install netpyne \n",
        "import matplotlib\n",
        "import os\n",
        "import json"
      ],
      "execution_count": null,
      "outputs": []
    },
    {
      "cell_type": "code",
      "metadata": {
        "id": "svtYiGlOG9Tf"
      },
      "source": [
        "%matplotlib inline"
      ],
      "execution_count": null,
      "outputs": []
    },
    {
      "cell_type": "markdown",
      "metadata": {
        "id": "I4ZvwJm6fGey"
      },
      "source": [
        "This next line will **detect if the directory already exists** (i.e. you are re-running this code), and will **delete it** to prevent future errors. "
      ]
    },
    {
      "cell_type": "code",
      "metadata": {
        "id": "1JsTSuHae_Oi"
      },
      "source": [
        "if os.path.isdir('/content/cells_netpyne2021'):\n",
        "  !rm -r /content/cells_netpyne2021"
      ],
      "execution_count": null,
      "outputs": []
    },
    {
      "cell_type": "markdown",
      "metadata": {
        "id": "LDUdXYHmbkLR"
      },
      "source": [
        "**Clone repository with the necessary cell and mod files**"
      ]
    },
    {
      "cell_type": "code",
      "metadata": {
        "id": "iZyTAo_5OYaA"
      },
      "source": [
        "!git clone https://github.com/ericaygriffith/cells_netpyne2021.git"
      ],
      "execution_count": null,
      "outputs": []
    },
    {
      "cell_type": "markdown",
      "metadata": {
        "id": "lyOMLquOixOh"
      },
      "source": [
        "**Move into the repository with all the necessary files**"
      ]
    },
    {
      "cell_type": "code",
      "metadata": {
        "id": "ZzbUv4yxQCi3"
      },
      "source": [
        "cd cells_netpyne2021/"
      ],
      "execution_count": null,
      "outputs": []
    },
    {
      "cell_type": "markdown",
      "metadata": {
        "id": "_6zfYKQSbzeF"
      },
      "source": [
        "**Ensure you are in the repository with the 'pwd' command** --> *Expected output*: '/content/cells_netpyne2021'"
      ]
    },
    {
      "cell_type": "code",
      "metadata": {
        "id": "TumQgyz_QIDa"
      },
      "source": [
        "!pwd"
      ],
      "execution_count": null,
      "outputs": []
    },
    {
      "cell_type": "markdown",
      "metadata": {
        "id": "Fpcn-UpGb00x"
      },
      "source": [
        "**Compile the mod files** --> *Expected output:* creation of an 'x86_64' directory "
      ]
    },
    {
      "cell_type": "code",
      "metadata": {
        "id": "Awib_5OmOzjS"
      },
      "source": [
        "!nrnivmodl"
      ],
      "execution_count": null,
      "outputs": []
    },
    {
      "cell_type": "markdown",
      "metadata": {
        "id": "nTu6o-Zny2oS"
      },
      "source": [
        "# (2) Importing cells from different file formats"
      ]
    },
    {
      "cell_type": "markdown",
      "metadata": {
        "id": "s-1PVaqD0LOS"
      },
      "source": [
        "**Set up netParams object**"
      ]
    },
    {
      "cell_type": "code",
      "metadata": {
        "id": "nQlqPAPAHHyW"
      },
      "source": [
        "from netpyne import specs, sim   \n",
        "\n",
        "# Network parameters\n",
        "netParams = specs.NetParams()  # object of class NetParams to store the network parameters"
      ],
      "execution_count": null,
      "outputs": []
    },
    {
      "cell_type": "markdown",
      "metadata": {
        "id": "Z5NOiaZW0QJn"
      },
      "source": [
        "**2a. Import cell from *.json* format**"
      ]
    },
    {
      "cell_type": "code",
      "metadata": {
        "id": "-_zSnrr3JgE2"
      },
      "source": [
        "netParams.loadCellParamsRule(label='TC_reduced', fileName = 'TC_reduced_cellParams.json')"
      ],
      "execution_count": null,
      "outputs": []
    },
    {
      "cell_type": "code",
      "metadata": {
        "id": "I7qosoz7ofIS"
      },
      "source": [
        "netParams.cellParams['TC_reduced']"
      ],
      "execution_count": null,
      "outputs": []
    },
    {
      "cell_type": "markdown",
      "metadata": {
        "id": "mVos4-7Hq06y"
      },
      "source": [
        "**2b. Import a detailed morphology from a *.swc* file**"
      ]
    },
    {
      "cell_type": "code",
      "metadata": {
        "id": "4GuMb33-rP1f"
      },
      "source": [
        "netParams.importCellParams(\n",
        "        label='PYR_HH3D_swc',\n",
        "        conds={'cellType': 'PYR', 'cellModel': 'HH3D_swc'},\n",
        "        fileName='BS0284.swc',\n",
        "        cellName='swc_cell')"
      ],
      "execution_count": null,
      "outputs": []
    },
    {
      "cell_type": "code",
      "metadata": {
        "id": "92-GiR6tpRR8"
      },
      "source": [
        "netParams.cellParams.keys()"
      ],
      "execution_count": null,
      "outputs": []
    },
    {
      "cell_type": "markdown",
      "metadata": {
        "id": "j3rnIKCg0hmE"
      },
      "source": [
        "**2c. Import a cell from a *.hoc* (NEURON) file**"
      ]
    },
    {
      "cell_type": "code",
      "metadata": {
        "id": "oXF2t0d22qlK"
      },
      "source": [
        "netParams.importCellParams(\n",
        "        label='PYR_HH3D_hoc',\n",
        "        conds={'cellType': 'PYR', 'cellModel': 'HH3D_hoc'},\n",
        "        fileName='geom.hoc',\n",
        "        cellName='E21',\n",
        "        importSynMechs=False)"
      ],
      "execution_count": null,
      "outputs": []
    },
    {
      "cell_type": "code",
      "metadata": {
        "id": "NlsN9xQQpdpF"
      },
      "source": [
        "netParams.cellParams.keys()"
      ],
      "execution_count": null,
      "outputs": []
    },
    {
      "cell_type": "markdown",
      "metadata": {
        "id": "qA6VzPq40tRn"
      },
      "source": [
        "**2d. Import a cell from a *.py* (python) file**"
      ]
    },
    {
      "cell_type": "code",
      "metadata": {
        "id": "VzlrqTat2sbW"
      },
      "source": [
        "netParams.importCellParams(\n",
        "        label='sRE_py',\n",
        "        conds={'cellType': 'sRE', 'cellModel': 'HH'},\n",
        "        fileName='sRE.py',\n",
        "        cellName='sRE',\n",
        "        importSynMechs=False)"
      ],
      "execution_count": null,
      "outputs": []
    },
    {
      "cell_type": "code",
      "metadata": {
        "id": "pNA12sS_pw3R"
      },
      "source": [
        "netParams.cellParams.keys()"
      ],
      "execution_count": null,
      "outputs": []
    },
    {
      "cell_type": "markdown",
      "metadata": {
        "id": "Hdg8Rr5uABit"
      },
      "source": [
        "**EXERCISE: import the other swc file contained in the cells_netpyne2021 directory**"
      ]
    },
    {
      "cell_type": "code",
      "metadata": {
        "id": "hRXwfJJP_cBG"
      },
      "source": [
        "netParams.importCellParams(\n",
        "    label='mouse_hipp_swc',\n",
        "    conds={'cellType': 'hipp','cellModel': 'HH3D'},\n",
        "    fileName='mouseGABA_hipp.swc',\n",
        "    cellName='swc_hippCell'\n",
        ")"
      ],
      "execution_count": null,
      "outputs": []
    },
    {
      "cell_type": "code",
      "metadata": {
        "id": "WBf8K34Er5tQ"
      },
      "source": [
        "netParams.cellParams.keys()"
      ],
      "execution_count": null,
      "outputs": []
    },
    {
      "cell_type": "markdown",
      "metadata": {
        "id": "dE0q2_sn04nd"
      },
      "source": [
        "# (3) Explore and manipulate cell parameters"
      ]
    },
    {
      "cell_type": "markdown",
      "metadata": {
        "id": "leD5yrPY3Ts8"
      },
      "source": [
        "**Explore the cell types located in the netParams.cellParams dictionary**"
      ]
    },
    {
      "cell_type": "code",
      "metadata": {
        "id": "Gn2sX8OerIy5"
      },
      "source": [
        "netParams.cellParams.keys()"
      ],
      "execution_count": null,
      "outputs": []
    },
    {
      "cell_type": "markdown",
      "metadata": {
        "id": "-Fzcm2gO3Yd4"
      },
      "source": [
        "**EXERCISE: Find the geometry (length & diameter) of the soma compartment for each of the above cells**"
      ]
    },
    {
      "cell_type": "code",
      "metadata": {
        "id": "jQ0yPJJVKDut"
      },
      "source": [
        ""
      ],
      "execution_count": null,
      "outputs": []
    },
    {
      "cell_type": "markdown",
      "metadata": {
        "id": "mVnuCQzREW_5"
      },
      "source": [
        "**EXERCISE: List all of the channel mechanisms in the soma compartment of the thalamocortical cell model (TC_reduced)**"
      ]
    },
    {
      "cell_type": "code",
      "metadata": {
        "id": "9-iwTxF2Eblh"
      },
      "source": [
        ""
      ],
      "execution_count": null,
      "outputs": []
    },
    {
      "cell_type": "markdown",
      "metadata": {
        "id": "7bJMkym3FAdS"
      },
      "source": [
        "**Now we want to explore (and change) the values of a channel parameter in a given cell model**"
      ]
    },
    {
      "cell_type": "code",
      "metadata": {
        "id": "8NaWS8V4FlVt"
      },
      "source": [
        "netParams.cellParams['TC_reduced']['secs']['soma']['mechs'].keys()"
      ],
      "execution_count": null,
      "outputs": []
    },
    {
      "cell_type": "code",
      "metadata": {
        "id": "WpUwp6wTFqoy"
      },
      "source": [
        "netParams.cellParams['TC_reduced']['secs']['soma']['mechs']['pas'].keys()"
      ],
      "execution_count": null,
      "outputs": []
    },
    {
      "cell_type": "code",
      "metadata": {
        "id": "HTQFhFEHFu5J"
      },
      "source": [
        "netParams.cellParams['TC_reduced']['secs']['soma']['mechs']['pas']['g']"
      ],
      "execution_count": null,
      "outputs": []
    },
    {
      "cell_type": "markdown",
      "metadata": {
        "id": "RBY_wzAXF8SD"
      },
      "source": [
        "**EXERCISE: Change the conductance of the leak channel in the soma compartment of the reticular cell model (sRE.py)**\n",
        "\n"
      ]
    },
    {
      "cell_type": "code",
      "metadata": {
        "id": "PaAPJSvOFzdb"
      },
      "source": [
        ""
      ],
      "execution_count": null,
      "outputs": []
    },
    {
      "cell_type": "markdown",
      "metadata": {
        "id": "uOVy3USkFex5"
      },
      "source": [
        "**EXERCISE: Insert a passive leak channel ('pas') into the soma compartment of the mouseGABA_hipp.swc cell model**\n"
      ]
    },
    {
      "cell_type": "code",
      "metadata": {
        "id": "WGPmWuzsFdQi"
      },
      "source": [
        ""
      ],
      "execution_count": null,
      "outputs": []
    },
    {
      "cell_type": "markdown",
      "metadata": {
        "id": "SuLplB9nFaLQ"
      },
      "source": [
        "**EXERCISE: Change the capacitance of all compartments in the model defined by BS0284.hoc (PYR_HH3D_swc)**"
      ]
    },
    {
      "cell_type": "code",
      "metadata": {
        "id": "7-nfCynAHBnO"
      },
      "source": [
        ""
      ],
      "execution_count": null,
      "outputs": []
    },
    {
      "cell_type": "markdown",
      "metadata": {
        "id": "zeLQKeKrIuCu"
      },
      "source": [
        "**Now let's see how these changes affect the cell behavior by plotting cell's response to current input before and after param changes!**"
      ]
    },
    {
      "cell_type": "markdown",
      "metadata": {
        "id": "PvKwCh72JG_Q"
      },
      "source": [
        "**EXERCISE: First create a population of thalamocortical cells**"
      ]
    },
    {
      "cell_type": "code",
      "metadata": {
        "id": "W3XadPAUJKsl"
      },
      "source": [
        ""
      ],
      "execution_count": null,
      "outputs": []
    },
    {
      "cell_type": "markdown",
      "metadata": {
        "id": "HvaQTM27I_pN"
      },
      "source": [
        "**EXERCISE: Add hyperpolarizing current clamp stimulation of -0.1 nA to thalamocortical cell pop** "
      ]
    },
    {
      "cell_type": "code",
      "metadata": {
        "id": "qVqIsBwCIyt7"
      },
      "source": [
        ""
      ],
      "execution_count": null,
      "outputs": []
    },
    {
      "cell_type": "code",
      "metadata": {
        "id": "dqvN7P87Jn5H"
      },
      "source": [
        ""
      ],
      "execution_count": null,
      "outputs": []
    },
    {
      "cell_type": "markdown",
      "metadata": {
        "id": "VmkX0HEWJuwL"
      },
      "source": [
        "**Add cfg params**"
      ]
    },
    {
      "cell_type": "code",
      "metadata": {
        "id": "CcvbW5gjIteV"
      },
      "source": [
        "## cfg  \n",
        "cfg = specs.SimConfig()\t\t\t\t\t            # object of class SimConfig to store simulation configuration\n",
        "cfg.duration = 2*1e3 \t\t\t\t\t\t            # Duration of the simulation, in ms\n",
        "cfg.dt = 0.01\t\t\t\t\t\t\t\t                # Internal integration timestep to use\n",
        "cfg.verbose = 1\t\t\t\t\t\t\t                # Show detailed messages \n",
        "cfg.recordTraces = {'V_soma':{'sec':'soma','loc':0.5,'var':'v'}}  # Dict with traces to record\n",
        "cfg.recordStep = 0.01 \t\t\t\n",
        "cfg.filename = 'model_output'  \t\t\t# Set file output name\n",
        "cfg.saveJson = False\n",
        "cfg.analysis['plotTraces'] = {'include': [0], 'saveFig': True} # Plot recorded traces for this list of cells\n",
        "cfg.hParams['celsius'] = 36\n"
      ],
      "execution_count": null,
      "outputs": []
    },
    {
      "cell_type": "markdown",
      "metadata": {
        "id": "tTHJbn74J7lS"
      },
      "source": [
        "**Create network and run simulation**"
      ]
    },
    {
      "cell_type": "code",
      "metadata": {
        "id": "FLFtnFMTJ9d2"
      },
      "source": [
        "sim.createSimulateAnalyze(netParams = netParams, simConfig = cfg)"
      ],
      "execution_count": null,
      "outputs": []
    },
    {
      "cell_type": "markdown",
      "metadata": {
        "id": "l1hSjSpXRM3b"
      },
      "source": [
        "**EXERCISE: We see a rebound burst! T-type calcium channels are normally considered responsible for this behavior. What happens if we set the conductance of this channel to 0?**"
      ]
    },
    {
      "cell_type": "code",
      "metadata": {
        "id": "QNBtYOL6RVx3"
      },
      "source": [
        ""
      ],
      "execution_count": null,
      "outputs": []
    },
    {
      "cell_type": "code",
      "metadata": {
        "id": "X4d0MxbtRqZw"
      },
      "source": [
        ""
      ],
      "execution_count": null,
      "outputs": []
    },
    {
      "cell_type": "code",
      "metadata": {
        "id": "TnePQWvmRxrk"
      },
      "source": [
        ""
      ],
      "execution_count": null,
      "outputs": []
    },
    {
      "cell_type": "code",
      "metadata": {
        "id": "P2dl3wsmRyhn"
      },
      "source": [
        ""
      ],
      "execution_count": null,
      "outputs": []
    },
    {
      "cell_type": "markdown",
      "metadata": {
        "id": "G4G4YQzsR8Ac"
      },
      "source": [
        "**cfg params**"
      ]
    },
    {
      "cell_type": "code",
      "metadata": {
        "id": "b5si2h8_R2Q_"
      },
      "source": [
        "## cfg  \n",
        "cfg = specs.SimConfig()\t\t\t\t\t            # object of class SimConfig to store simulation configuration\n",
        "cfg.duration = 2*1e3 \t\t\t\t\t\t            # Duration of the simulation, in ms\n",
        "cfg.dt = 0.01\t\t\t\t\t\t\t\t                # Internal integration timestep to use\n",
        "cfg.verbose = 1\t\t\t\t\t\t\t                # Show detailed messages \n",
        "cfg.recordTraces = {'V_soma':{'sec':'soma','loc':0.5,'var':'v'}}  # Dict with traces to record\n",
        "cfg.recordStep = 0.01 \t\t\t\n",
        "cfg.filename = 'model_output'  \t\t\t# Set file output name\n",
        "cfg.saveJson = False\n",
        "cfg.analysis['plotTraces'] = {'include': [0], 'saveFig': True} # Plot recorded traces for this list of cells\n",
        "cfg.hParams['celsius'] = 36"
      ],
      "execution_count": null,
      "outputs": []
    },
    {
      "cell_type": "markdown",
      "metadata": {
        "id": "ke3HznlYR9am"
      },
      "source": [
        "**Run the sim**"
      ]
    },
    {
      "cell_type": "code",
      "metadata": {
        "id": "lDGpMPJZR3o3"
      },
      "source": [
        "sim.createSimulateAnalyze(netParams = netParams, simConfig = cfg)"
      ],
      "execution_count": null,
      "outputs": []
    },
    {
      "cell_type": "markdown",
      "metadata": {
        "id": "DpQo7_2SSY9i"
      },
      "source": [
        "# (4) Plotting Morphology"
      ]
    },
    {
      "cell_type": "code",
      "metadata": {
        "id": "QjACpPK5TNt0"
      },
      "source": [
        "netParams.popParams['HH3D_pop_hoc'] = {'cellType': 'PYR', 'numCells': 1, 'cellModel': 'HH3D_hoc'}\n"
      ],
      "execution_count": null,
      "outputs": []
    },
    {
      "cell_type": "code",
      "metadata": {
        "id": "3gT52ZdrTf5M"
      },
      "source": [
        "sim.createSimulateAnalyze(netParams = netParams, simConfig = cfg)"
      ],
      "execution_count": null,
      "outputs": []
    },
    {
      "cell_type": "code",
      "metadata": {
        "id": "d4159PslSbqt"
      },
      "source": [
        "sim.analysis.plotShape(includePre = [], includePost=['HH3D_pop_hoc'], showSyns=False, figSize=(4,9), dist=0.8, saveFig=True)"
      ],
      "execution_count": null,
      "outputs": []
    },
    {
      "cell_type": "markdown",
      "metadata": {
        "id": "cwHRwygbYNQN"
      },
      "source": [
        "**EXERCISE: Try plotting the morphology of other cell models**"
      ]
    },
    {
      "cell_type": "code",
      "metadata": {
        "id": "tj77u5q6YSa8"
      },
      "source": [
        ""
      ],
      "execution_count": null,
      "outputs": []
    },
    {
      "cell_type": "markdown",
      "metadata": {
        "id": "MLjM4YqKa4oX"
      },
      "source": [
        "# (5) Making a Network"
      ]
    },
    {
      "cell_type": "markdown",
      "metadata": {
        "id": "RPVG8lsNbvl8"
      },
      "source": [
        "**EXERCISE: To begin creating a network, specify the geometry of the area you would like to model.**"
      ]
    },
    {
      "cell_type": "code",
      "metadata": {
        "id": "ADsqCBtUbzRu"
      },
      "source": [
        "netParams.sizeX = 200"
      ],
      "execution_count": null,
      "outputs": []
    },
    {
      "cell_type": "code",
      "metadata": {
        "id": "thRVXKC-b1S7"
      },
      "source": [
        ""
      ],
      "execution_count": null,
      "outputs": []
    },
    {
      "cell_type": "code",
      "metadata": {
        "id": "lTEU5QELb1jX"
      },
      "source": [
        ""
      ],
      "execution_count": null,
      "outputs": []
    },
    {
      "cell_type": "markdown",
      "metadata": {
        "id": "kbdQUbOVb489"
      },
      "source": [
        "**Now let's set the propagation velocity and length constant:**"
      ]
    },
    {
      "cell_type": "code",
      "metadata": {
        "id": "A_6wo1c8b8eg"
      },
      "source": [
        "netParams.propVelocity = 100.0 # propagation velocity (um/ms)"
      ],
      "execution_count": null,
      "outputs": []
    },
    {
      "cell_type": "code",
      "metadata": {
        "id": "sARIVS3Nb8WZ"
      },
      "source": [
        "netParams.probLengthConst = 150.0 # length constant for conn probability (um)"
      ],
      "execution_count": null,
      "outputs": []
    },
    {
      "cell_type": "markdown",
      "metadata": {
        "id": "n9luKE_8bceU"
      },
      "source": [
        "**EXERCISE: Now establish a few populations of cells**"
      ]
    },
    {
      "cell_type": "code",
      "metadata": {
        "id": "IOxompk7brVj"
      },
      "source": [
        ""
      ],
      "execution_count": null,
      "outputs": []
    },
    {
      "cell_type": "markdown",
      "metadata": {
        "id": "YGZB1FSUcFZk"
      },
      "source": [
        "**Now we need some synaptic mechanism parameters**"
      ]
    },
    {
      "cell_type": "code",
      "metadata": {
        "id": "YEGu8fEAcJzZ"
      },
      "source": [
        "netParams.synMechParams['exc'] = {'mod': 'Exp2Syn', 'tau1': 0.8, 'tau2': 5.3, 'e': 0} # NMDA synaptic mechanism"
      ],
      "execution_count": null,
      "outputs": []
    },
    {
      "cell_type": "code",
      "metadata": {
        "id": "RfozdJr2caFZ"
      },
      "source": [
        "netParams.synMechParams['inh'] = {'mod': 'Exp2Syn', 'tau1': 0.6, 'tau2': 8.5, 'e': -75}  # GABA synaptic mechanism\n"
      ],
      "execution_count": null,
      "outputs": []
    },
    {
      "cell_type": "markdown",
      "metadata": {
        "id": "5zInMwbdcl5_"
      },
      "source": [
        "**Add some network stimulation parameters**"
      ]
    },
    {
      "cell_type": "code",
      "metadata": {
        "id": "1iwUL9i7c5Uc"
      },
      "source": [
        "netParams.stimSourceParams['bkg'] = {'type': 'NetStim', 'rate': 40, 'noise': 0.3}"
      ],
      "execution_count": null,
      "outputs": []
    },
    {
      "cell_type": "markdown",
      "metadata": {
        "id": "p7em5PMjc-Hw"
      },
      "source": [
        "**EXERCISE: modify the line below such that your stim object can target the populations in your network**"
      ]
    },
    {
      "cell_type": "code",
      "metadata": {
        "id": "VZynW-7Kc8hy"
      },
      "source": [
        "netParams.stimTargetParams['bkg->all'] = {'source': 'bkg', 'conds': {'cellType': ['E','I']}, 'weight': 10.0, 'sec': 'soma', 'delay': 'max(1, normal(5,2))', 'synMech': 'exc'}\n"
      ],
      "execution_count": null,
      "outputs": []
    },
    {
      "cell_type": "markdown",
      "metadata": {
        "id": "AHC-ARkjdHPK"
      },
      "source": [
        "**Add cell connectivity rules**"
      ]
    },
    {
      "cell_type": "markdown",
      "metadata": {
        "id": "5KAMhC8idT4O"
      },
      "source": [
        "**EXERCISE: modify the lines below to fit your network**"
      ]
    },
    {
      "cell_type": "code",
      "metadata": {
        "id": "8yPsOXjQdKpN"
      },
      "source": [
        "netParams.connParams['E->all'] = {\n",
        "  'preConds': {'cellType': 'E'}, 'postConds': {'y': [100,1000]},  #  E -> all (100-1000 um)\n",
        "  'probability': 0.1 ,                  # probability of connection\n",
        "  'weight': '5.0*post_ynorm',         # synaptic weight\n",
        "  'delay': 'dist_3D/propVelocity',      # transmission delay (ms)\n",
        "  'synMech': 'exc'}                     # synaptic mechanism"
      ],
      "execution_count": null,
      "outputs": []
    },
    {
      "cell_type": "markdown",
      "metadata": {
        "id": "avZKTXNcd5LJ"
      },
      "source": [
        "**EXERCISE: Add the appropriate line(s) to run the network and plot a 2D representation of your network w/ connectivity between cells**"
      ]
    },
    {
      "cell_type": "code",
      "metadata": {
        "id": "f-sUlmhEd4rW"
      },
      "source": [
        ""
      ],
      "execution_count": null,
      "outputs": []
    },
    {
      "cell_type": "code",
      "metadata": {
        "id": "lBbmWHJYdsua"
      },
      "source": [
        "cfg.analysis['plot2Dnet'] = {'saveFig': True}                                                # plot 2D cell positions and connections\n",
        "cfg.analysis['plotConn'] = {'saveFig': True}                                                 # plot connectivity matrix\n"
      ],
      "execution_count": null,
      "outputs": []
    },
    {
      "cell_type": "code",
      "metadata": {
        "id": "kGeVPYC0eHA1"
      },
      "source": [
        ""
      ],
      "execution_count": null,
      "outputs": []
    }
  ]
}