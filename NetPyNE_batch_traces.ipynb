{
  "nbformat": 4,
  "nbformat_minor": 0,
  "metadata": {
    "colab": {
      "name": "NetPyNE_batch_traces",
      "provenance": [],
      "collapsed_sections": [],
      "include_colab_link": true
    },
    "kernelspec": {
      "name": "python3",
      "display_name": "Python 3"
    },
    "language_info": {
      "name": "python"
    }
  },
  "cells": [
    {
      "cell_type": "markdown",
      "metadata": {
        "id": "view-in-github",
        "colab_type": "text"
      },
      "source": [
        "<a href=\"https://colab.research.google.com/github/jessfeld/netpyne_course_2021/blob/main/NetPyNE_batch_traces.ipynb\" target=\"_parent\"><img src=\"https://colab.research.google.com/assets/colab-badge.svg\" alt=\"Open In Colab\"/></a>"
      ]
    },
    {
      "cell_type": "code",
      "metadata": {
        "id": "V0cRyhp8YWl2"
      },
      "source": [
        "!pip install neuron\n",
        "!pip install netpyne\n",
        "import matplotlib"
      ],
      "execution_count": null,
      "outputs": []
    },
    {
      "cell_type": "code",
      "metadata": {
        "id": "QzblvwEt9Ovm"
      },
      "source": [
        "rm -r netpyne-course-2021"
      ],
      "execution_count": null,
      "outputs": []
    },
    {
      "cell_type": "code",
      "metadata": {
        "id": "2RjvKVYDyuXM"
      },
      "source": [
        "!git clone --single-branch --branch batch_traces https://github.com/suny-downstate-medical-center/netpyne-course-2021.git"
      ],
      "execution_count": null,
      "outputs": []
    },
    {
      "cell_type": "code",
      "metadata": {
        "id": "xAt-SfNS8rQt"
      },
      "source": [
        "cd netpyne-course-2021"
      ],
      "execution_count": null,
      "outputs": []
    },
    {
      "cell_type": "code",
      "metadata": {
        "id": "f0P--qg5YUT6"
      },
      "source": [
        "from netpyne import specs\n",
        "from netpyne.batch import Batch\n",
        "\n",
        "def batchTau1Tau2():\n",
        "        # Create variable of type ordered dictionary (NetPyNE's customized version)\n",
        "        params = specs.ODict()\n",
        "\n",
        "        # fill in with parameters to explore and range of values (key has to coincide with a variable in simConfig)\n",
        "        params['synMechTau1'] = [0.01, 0.1, 1.0]\n",
        "        params['synMechTau2'] = [1.0, 2.0, 3.0]\n",
        "        \n",
        "\n",
        "        # create Batch object with parameters to modify, and specifying files to use\n",
        "        b = Batch(params=params, cfgFile='tut8_cfg.py', netParamsFile='tut8_netParams.py',)\n",
        "\n",
        "        # Set output folder, grid method (all param combinations), and run configuration\n",
        "        b.batchLabel = 'tau1tau2'\n",
        "        b.saveFolder = 'tut8_data'\n",
        "        b.method = 'grid'\n",
        "        b.runCfg = {'type': 'mpi_bulletin',\n",
        "                            'script': 'tut8_init.py',\n",
        "                            'skip': True}\n",
        "\n",
        "        # Run batch simulations\n",
        "        b.run()\n",
        "\n",
        "# Main code\n",
        "if __name__ == '__main__':\n",
        "        batchTau1Tau2()"
      ],
      "execution_count": null,
      "outputs": []
    },
    {
      "cell_type": "markdown",
      "metadata": {
        "id": "JVLZoiS_trCg"
      },
      "source": [
        "## Joe's batch analysis"
      ]
    },
    {
      "cell_type": "code",
      "metadata": {
        "id": "DqLrtW20JDQc"
      },
      "source": [
        "from batch_analysis import plot_vtraces, plot_traces"
      ],
      "execution_count": null,
      "outputs": []
    },
    {
      "cell_type": "code",
      "metadata": {
        "id": "Nex6aKFnJmhQ"
      },
      "source": [
        "%matplotlib inline"
      ],
      "execution_count": null,
      "outputs": []
    },
    {
      "cell_type": "code",
      "metadata": {
        "id": "dP6xjPg4n1Hj"
      },
      "source": [
        "plot_vtraces('tut8_data', 'tau1tau2')"
      ],
      "execution_count": null,
      "outputs": []
    },
    {
      "cell_type": "code",
      "metadata": {
        "id": "qk2erDHKu-tr"
      },
      "source": [
        "plot_traces('tut8_data', 'tau1tau2', ['gNa_soma', 'gK_soma'])"
      ],
      "execution_count": null,
      "outputs": []
    },
    {
      "cell_type": "code",
      "metadata": {
        "id": "V6oHdMRdxroL"
      },
      "source": [
        ""
      ],
      "execution_count": null,
      "outputs": []
    }
  ]
}