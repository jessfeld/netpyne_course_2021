{
  "nbformat": 4,
  "nbformat_minor": 0,
  "metadata": {
    "colab": {
      "name": "tut8_batch_exercises.ipynb",
      "provenance": [],
      "collapsed_sections": [
        "cjH-BBbhzn2M",
        "opHCN__kzdeE",
        "bwY07MyizrTA"
      ],
      "include_colab_link": true
    },
    "kernelspec": {
      "name": "python3",
      "display_name": "Python 3"
    },
    "language_info": {
      "name": "python"
    }
  },
  "cells": [
    {
      "cell_type": "markdown",
      "metadata": {
        "id": "view-in-github",
        "colab_type": "text"
      },
      "source": [
        "<a href=\"https://colab.research.google.com/github/jessfeld/netpyne_course_2021/blob/main/tut8_batch_exercises.ipynb\" target=\"_parent\"><img src=\"https://colab.research.google.com/assets/colab-badge.svg\" alt=\"Open In Colab\"/></a>"
      ]
    },
    {
      "cell_type": "markdown",
      "metadata": {
        "id": "0P_bQlOHhOia"
      },
      "source": [
        "# Working with Batch Simulations"
      ]
    },
    {
      "cell_type": "markdown",
      "metadata": {
        "id": "n4eG4E2whVNE"
      },
      "source": [
        "The code is crashing sometimes when you try to change parameters and re-run the batch sim.\n",
        "\n",
        "Just go to the top and click **Runtime>Restart Runtime** and re-execute the installation steps (should run pretty quickly)"
      ]
    },
    {
      "cell_type": "code",
      "metadata": {
        "id": "N34H_qpNxRAv"
      },
      "source": [
        "!pwd"
      ],
      "execution_count": null,
      "outputs": []
    },
    {
      "cell_type": "code",
      "metadata": {
        "id": "C6vayDVZxWWQ"
      },
      "source": [
        "cd /content/"
      ],
      "execution_count": null,
      "outputs": []
    },
    {
      "cell_type": "code",
      "metadata": {
        "id": "2iORhjYQxYvy"
      },
      "source": [
        "!pwd"
      ],
      "execution_count": null,
      "outputs": []
    },
    {
      "cell_type": "code",
      "metadata": {
        "id": "Ij4DkBpfxZcB"
      },
      "source": [
        "!pip install neuron\n",
        "!pip install netpyne \n",
        "import matplotlib\n",
        "import os\n",
        "import json"
      ],
      "execution_count": null,
      "outputs": []
    },
    {
      "cell_type": "code",
      "metadata": {
        "id": "RKsvu2_pxdN2"
      },
      "source": [
        "if os.path.isdir('/content/tut8_batch_exercises'):\n",
        "  !ls\n",
        "  !rm -r /content/tut8_batch_exercises\n",
        "  !ls"
      ],
      "execution_count": null,
      "outputs": []
    },
    {
      "cell_type": "code",
      "metadata": {
        "id": "_0PYzNcmxdMW"
      },
      "source": [
        "!git clone https://github.com/joaovvitor/tut8_batch_exercises.git"
      ],
      "execution_count": null,
      "outputs": []
    },
    {
      "cell_type": "code",
      "metadata": {
        "id": "_4Xu6UmsxdJy"
      },
      "source": [
        "!ls"
      ],
      "execution_count": null,
      "outputs": []
    },
    {
      "cell_type": "code",
      "metadata": {
        "id": "VX6U0VQkxdHY"
      },
      "source": [
        "cd /content/tut8_batch_exercises/"
      ],
      "execution_count": null,
      "outputs": []
    },
    {
      "cell_type": "markdown",
      "metadata": {
        "id": "c8bjc4Ug5DsN"
      },
      "source": [
        "# Debugging sections"
      ]
    },
    {
      "cell_type": "markdown",
      "metadata": {
        "id": "KrW7BYgj5df1"
      },
      "source": [
        "Run this section if you have previously ran the any batch sim, so you move back to the root folder"
      ]
    },
    {
      "cell_type": "code",
      "metadata": {
        "id": "zcbolgUY5JwO"
      },
      "source": [
        "cd /content/tut8_batch_exercises/"
      ],
      "execution_count": null,
      "outputs": []
    },
    {
      "cell_type": "markdown",
      "metadata": {
        "id": "lSomUfeL5h3o"
      },
      "source": [
        "Run this section if you have previously ran the 'tut8_data_IClamp'\n"
      ]
    },
    {
      "cell_type": "code",
      "metadata": {
        "id": "rne22L8U44ZU"
      },
      "source": [
        "if os.path.isdir('/content/tut8_batch_exercises/tut8_data_IClamp/'):\n",
        "  !rm -r /content/tut8_batch_exercises/tut8_data_IClamp/\n",
        "  print(\"IClamp data removed\")"
      ],
      "execution_count": null,
      "outputs": []
    },
    {
      "cell_type": "markdown",
      "metadata": {
        "id": "-3RALwyJ5kIP"
      },
      "source": [
        "Run this section if you have previously ran the 'tut8_data_NetStims'\n"
      ]
    },
    {
      "cell_type": "code",
      "metadata": {
        "id": "u_jxDSrE45uu"
      },
      "source": [
        "if os.path.isdir('/content/tut8_batch_exercises/tut8_data_NetStims/'):\n",
        "  !rm -r /content/tut8_batch_exercises/tut8_data_NetStims/\n",
        "  print(\"NetStims data removed\")"
      ],
      "execution_count": null,
      "outputs": []
    },
    {
      "cell_type": "markdown",
      "metadata": {
        "id": "-SeTeRhG5oMH"
      },
      "source": [
        "Run this section if you have previously ran the 'tut8_data_CellParams'\n"
      ]
    },
    {
      "cell_type": "code",
      "metadata": {
        "id": "1m29m2WA47dp"
      },
      "source": [
        "if os.path.isdir('/content/tut8_batch_exercises/tut8_data_CellParams/'):\n",
        "  !rm -r /content/tut8_batch_exercises/tut8_data_CellParams/\n",
        "  print(\"CellParams data removed\")"
      ],
      "execution_count": null,
      "outputs": []
    },
    {
      "cell_type": "markdown",
      "metadata": {
        "id": "eXWaNmsT5oUl"
      },
      "source": [
        "Run this section if you have previously ran the 'tut8_data_NetPar'\n"
      ]
    },
    {
      "cell_type": "code",
      "metadata": {
        "id": "wUFlxKDi3Xfj"
      },
      "source": [
        "if os.path.isdir('/content/tut8_batch_exercises/tut8_data_NetPar/'):\n",
        "  !rm -r /content/tut8_batch_exercises/tut8_data_NetPar/\n",
        "  print(\"NetPar data removed\")"
      ],
      "execution_count": null,
      "outputs": []
    },
    {
      "cell_type": "markdown",
      "metadata": {
        "id": "wFiz4Jxz4-sJ"
      },
      "source": [
        "# Running the Batch simulation"
      ]
    },
    {
      "cell_type": "code",
      "metadata": {
        "id": "LTvwrgBUxdFu"
      },
      "source": [
        "from netpyne import specs, sim\n",
        "%matplotlib inline\n",
        "from netpyne import specs\n",
        "from netpyne.batch import Batch\n",
        "import numpy as np\n",
        "\n",
        "def changeIClamp():\n",
        "        # Create variable of type ordered dictionary (NetPyNE's customized version)\n",
        "        params = specs.ODict()\n",
        "\n",
        "        # fill in with parameters to explore and range of values (key has to coincide with a variable in simConfig)\n",
        "        params['clampAmplitude']=[0.05, 0.1, 0.2, 0.4, 0.6]\n",
        "\n",
        "        # create Batch object with parameters to modify, and specifying files to use\n",
        "        b = Batch(params=params, cfgFile='tut8_cfg_IClamp.py', netParamsFile='tut8_netParams_IClamp.py',)\n",
        "\n",
        "        # Set output folder, grid method (all param combinations), and run configuration\n",
        "        b.batchLabel = 'IClamp'\n",
        "        b.saveFolder = 'tut8_data_IClamp'\n",
        "        b.method = 'grid'\n",
        "        b.runCfg = {'type': 'mpi_bulletin',\n",
        "                            'script': 'tut8_init.py',\n",
        "                            'skip': True}\n",
        "\n",
        "        # Run batch simulations\n",
        "        b.run()\n",
        "\n",
        "def changeNetStims():\n",
        "        # Create variable of type ordered dictionary (NetPyNE's customized version)\n",
        "        params = specs.ODict()\n",
        "\n",
        "        # fill in with parameters to explore and range of values (key has to coincide with a variable in simConfig)\n",
        "        params['']=[]\n",
        "\n",
        "        # create Batch object with parameters to modify, and specifying files to use\n",
        "        b = Batch(params=params, cfgFile='tut8_cfg_NetStims.py', netParamsFile='tut8_netParams_NetStims.py',)\n",
        "\n",
        "        # Set output folder, grid method (all param combinations), and run configuration\n",
        "        b.batchLabel = 'NetStims'\n",
        "        b.saveFolder = 'tut8_data_NetStims'\n",
        "        b.method = 'grid'\n",
        "        b.runCfg = {'type': 'mpi_bulletin',\n",
        "                            'script': 'tut8_init.py',\n",
        "                            'skip': True}\n",
        "\n",
        "        # Run batch simulations\n",
        "        b.run()\n",
        "\n",
        "def changeCellParameters():\n",
        "        # Create variable of type ordered dictionary (NetPyNE's customized version)\n",
        "        params = specs.ODict()\n",
        "\n",
        "        # fill in with parameters to explore and range of values (key has to coincide with a variable in simConfig)\n",
        "        params['']=[]\n",
        "\n",
        "        # create Batch object with parameters to modify, and specifying files to use\n",
        "        b = Batch(params=params, cfgFile='tut8_cfg_CellParams.py', netParamsFile='tut8_netParams_CellParams.py',groupedParams=[('gnaBar','gkBar')])\n",
        "\n",
        "        # Set output folder, grid method (all param combinations), and run configuration\n",
        "        b.batchLabel = 'CellParams'\n",
        "        b.saveFolder = 'tut8_data_CellParams'\n",
        "        b.method = 'grid'\n",
        "        b.runCfg = {'type': 'mpi_bulletin',\n",
        "                            'script': 'tut8_init.py',\n",
        "                            'skip': True}\n",
        "\n",
        "        # Run batch simulations\n",
        "        b.run()\n",
        "\n",
        "def changeNetworkParameters():\n",
        "        # Create variable of type ordered dictionary (NetPyNE's customized version)\n",
        "        params = specs.ODict()\n",
        "\n",
        "        # fill in with parameters to explore and range of values (key has to coincide with a variable in simConfig)\n",
        "        params['']=[]\n",
        "\n",
        "        # create Batch object with parameters to modify, and specifying files to use\n",
        "        b = Batch(params=params, cfgFile='tut8_cfg_NetPar.py', netParamsFile='tut8_netParams_NetPar.py',)\n",
        "\n",
        "        # Set output folder, grid method (all param combinations), and run configuration\n",
        "        b.batchLabel = 'NetPar'\n",
        "        b.saveFolder = 'tut8_data_NetPar'\n",
        "        b.method = 'grid'\n",
        "        b.runCfg = {'type': 'mpi_bulletin',\n",
        "                            'script': 'tut8_init.py',\n",
        "                            'skip': True}\n",
        "\n",
        "        # Run batch simulations\n",
        "        b.run()\n",
        "\n",
        "# Main code\n",
        "if __name__ == '__main__':\n",
        "        # changeIClamp()\n",
        "        # changeNetStims()\n",
        "        changeCellParameters()\n",
        "        # changeNetworkParameters()"
      ],
      "execution_count": null,
      "outputs": []
    },
    {
      "cell_type": "markdown",
      "metadata": {
        "id": "cjH-BBbhzn2M"
      },
      "source": [
        "# IClamp data"
      ]
    },
    {
      "cell_type": "code",
      "metadata": {
        "id": "xxZkFsO20MVr"
      },
      "source": [
        "!ls"
      ],
      "execution_count": null,
      "outputs": []
    },
    {
      "cell_type": "code",
      "metadata": {
        "id": "Vq5HouFN0OfP"
      },
      "source": [
        "cd /content/tut8_batch_exercises/tut8_data_IClamp/"
      ],
      "execution_count": null,
      "outputs": []
    },
    {
      "cell_type": "code",
      "metadata": {
        "id": "1wCil53-0SZu"
      },
      "source": [
        "!ls"
      ],
      "execution_count": null,
      "outputs": []
    },
    {
      "cell_type": "code",
      "metadata": {
        "id": "4Arx6uUt0aus"
      },
      "source": [
        "# to open images in colab\n",
        "from IPython.display import Image, display\n",
        "\n",
        "list_of_files=[]\n",
        "# Get .png files\n",
        "for f_name in os.listdir('/content/tut8_batch_exercises/tut8_data_IClamp/'):\n",
        "  if f_name.endswith('traces.png'):\n",
        "    list_of_files.append(f_name)\n",
        "list_of_files.sort()\n",
        "for i in list_of_files:\n",
        "  print(i)\n",
        "  display(Image(i, width=500, height=500))"
      ],
      "execution_count": null,
      "outputs": []
    },
    {
      "cell_type": "markdown",
      "metadata": {
        "id": "opHCN__kzdeE"
      },
      "source": [
        "# NetStims data"
      ]
    },
    {
      "cell_type": "code",
      "metadata": {
        "colab": {
          "base_uri": "https://localhost:8080/"
        },
        "id": "s3HgiJdvxc6p",
        "outputId": "933b57e2-466b-4f47-94d9-c36462a1cc3b"
      },
      "source": [
        "cd /content/tut8_batch_exercises/tut8_data_NetStims/"
      ],
      "execution_count": null,
      "outputs": [
        {
          "output_type": "stream",
          "text": [
            "/content/tut8_batch_exercises/tut8_data_NetStims\n"
          ],
          "name": "stdout"
        }
      ]
    },
    {
      "cell_type": "code",
      "metadata": {
        "id": "8v3o_oMQxc2f"
      },
      "source": [
        "# to open images in colab\n",
        "from IPython.display import Image, display\n",
        "\n",
        "list_of_files=[]\n",
        "# Get .png files\n",
        "for f_name in os.listdir('/content/tut8_batch_exercises/tut8_data_NetStims/'):\n",
        "  if f_name.endswith('traces.png'):\n",
        "    list_of_files.append(f_name)\n",
        "list_of_files.sort()\n",
        "for i in list_of_files:\n",
        "  print(i)\n",
        "  display(Image(i, width=500, height=500))"
      ],
      "execution_count": null,
      "outputs": []
    },
    {
      "cell_type": "markdown",
      "metadata": {
        "id": "tYPyfFAJ6Ihq"
      },
      "source": [
        "# CellParams exercise"
      ]
    },
    {
      "cell_type": "markdown",
      "metadata": {
        "id": "ElN3vypcaHX9"
      },
      "source": [
        "**Build a simulation that:**\n",
        "\n",
        "1) changes the channel properties that affect the resting membrane potential of the cell\n",
        "\n",
        "2) changes the maximum conductance of Na and K\n",
        "\n",
        "3) which other properties can we change?"
      ]
    },
    {
      "cell_type": "markdown",
      "metadata": {
        "id": "jJS5iSjNavZH"
      },
      "source": [
        "# CellParams data"
      ]
    },
    {
      "cell_type": "code",
      "metadata": {
        "id": "oDRW0JPf6eMA"
      },
      "source": [
        "cd /content/tut8_batch_exercises/tut8_data_CellParams/"
      ],
      "execution_count": null,
      "outputs": []
    },
    {
      "cell_type": "code",
      "metadata": {
        "id": "HYy1eABwxc0V"
      },
      "source": [
        "# to open images in colab\n",
        "from IPython.display import Image, display\n",
        "\n",
        "list_of_files=[]\n",
        "# Get .png files\n",
        "for f_name in os.listdir('/content/tut8_batch_exercises/tut8_data_CellParams/'):\n",
        "  if f_name.endswith('traces.png'):\n",
        "    list_of_files.append(f_name)\n",
        "list_of_files.sort()\n",
        "for i in list_of_files:\n",
        "  print(i)\n",
        "  display(Image(i, width=500, height=500))"
      ],
      "execution_count": null,
      "outputs": []
    },
    {
      "cell_type": "code",
      "metadata": {
        "id": "V-VjsRyZzp1h"
      },
      "source": [
        ""
      ],
      "execution_count": null,
      "outputs": []
    },
    {
      "cell_type": "markdown",
      "metadata": {
        "id": "XPVLF_BhgMIN"
      },
      "source": [
        "# NetPar exercise"
      ]
    },
    {
      "cell_type": "markdown",
      "metadata": {
        "id": "fVDp0ReHgRW2"
      },
      "source": [
        "**Build a simulation that:**\n",
        "\n",
        "1) changes the connection Probability\n",
        "\n",
        "2) changes the connection delay\n",
        "\n",
        "3) changes the synaptic mechanism"
      ]
    },
    {
      "cell_type": "markdown",
      "metadata": {
        "id": "bwY07MyizrTA"
      },
      "source": [
        "# NetPar data"
      ]
    },
    {
      "cell_type": "code",
      "metadata": {
        "id": "lr9vrQqa6SFh"
      },
      "source": [
        "cd /content/tut8_batch_exercises/tut8_data_NetPar/"
      ],
      "execution_count": null,
      "outputs": []
    },
    {
      "cell_type": "markdown",
      "metadata": {
        "id": "A9Wyp94U7ow1"
      },
      "source": [
        "View the 2D network plots"
      ]
    },
    {
      "cell_type": "code",
      "metadata": {
        "id": "piK5yaCs7h4l"
      },
      "source": [
        "# to open images in colab\n",
        "from IPython.display import Image, display\n",
        "\n",
        "list_of_files=[]\n",
        "# Get .png files\n",
        "for f_name in os.listdir('/content/tut8_batch_exercises/tut8_data_NetPar/'):\n",
        "  if f_name.endswith('2Dnet.png'):\n",
        "    list_of_files.append(f_name)\n",
        "list_of_files.sort()\n",
        "for i in list_of_files:\n",
        "  print(i)\n",
        "  display(Image(i, width=300, height=300))"
      ],
      "execution_count": null,
      "outputs": []
    },
    {
      "cell_type": "markdown",
      "metadata": {
        "id": "6_lNMbBh72xp"
      },
      "source": [
        "View the raster plots"
      ]
    },
    {
      "cell_type": "code",
      "metadata": {
        "id": "pwCCVsBC7s_8"
      },
      "source": [
        "# to open images in colab\n",
        "from IPython.display import Image, display\n",
        "\n",
        "list_of_files=[]\n",
        "# Get .png files\n",
        "for f_name in os.listdir('/content/tut8_batch_exercises/tut8_data_NetPar/'):\n",
        "  if f_name.endswith('raster_gid.png'):\n",
        "    list_of_files.append(f_name)\n",
        "list_of_files.sort()\n",
        "for i in list_of_files:\n",
        "  print(i)\n",
        "  display(Image(i, width=300, height=300))"
      ],
      "execution_count": null,
      "outputs": []
    },
    {
      "cell_type": "code",
      "metadata": {
        "id": "eZ9O6TEe761x"
      },
      "source": [
        ""
      ],
      "execution_count": null,
      "outputs": []
    }
  ]
}