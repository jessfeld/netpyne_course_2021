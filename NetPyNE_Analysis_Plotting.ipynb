{
  "nbformat": 4,
  "nbformat_minor": 0,
  "metadata": {
    "colab": {
      "name": "NetPyNE_Analysis_Plotting",
      "provenance": [],
      "collapsed_sections": [],
      "include_colab_link": true
    },
    "kernelspec": {
      "name": "python3",
      "display_name": "Python 3"
    },
    "language_info": {
      "name": "python"
    }
  },
  "cells": [
    {
      "cell_type": "markdown",
      "metadata": {
        "id": "view-in-github",
        "colab_type": "text"
      },
      "source": [
        "<a href=\"https://colab.research.google.com/github/jessfeld/netpyne_course_2021/blob/main/NetPyNE_Analysis_Plotting.ipynb\" target=\"_parent\"><img src=\"https://colab.research.google.com/assets/colab-badge.svg\" alt=\"Open In Colab\"/></a>"
      ]
    },
    {
      "cell_type": "markdown",
      "metadata": {
        "id": "RRlxTCVG35B0"
      },
      "source": [
        "# Analysis and Plotting in NetPyNE\n",
        "\n",
        "## Install NEURON and NetPyNE"
      ]
    },
    {
      "cell_type": "code",
      "metadata": {
        "id": "Lb2FZBx63Z70"
      },
      "source": [
        "!pip install neuron\n",
        "!pip install netpyne"
      ],
      "execution_count": null,
      "outputs": []
    },
    {
      "cell_type": "markdown",
      "metadata": {
        "id": "FhKgNeJo34gl"
      },
      "source": [
        "## Clone the NetPyNE GUI workspace and compile the mod files"
      ]
    },
    {
      "cell_type": "code",
      "metadata": {
        "id": "qH-4GbDW_RWT"
      },
      "source": [
        "!git clone https://github.com/Neurosim-lab/netpyne_workspace"
      ],
      "execution_count": null,
      "outputs": []
    },
    {
      "cell_type": "markdown",
      "metadata": {
        "id": "UvFYdtzv_eFZ"
      },
      "source": [
        "Now we will change into that directory and compile the mod files."
      ]
    },
    {
      "cell_type": "code",
      "metadata": {
        "id": "VFm9iXoX4M2c"
      },
      "source": [
        "cd netpyne_workspace"
      ],
      "execution_count": null,
      "outputs": []
    },
    {
      "cell_type": "code",
      "metadata": {
        "id": "CwALCwzsHi-y"
      },
      "source": [
        "!nrnivmodl mod"
      ],
      "execution_count": null,
      "outputs": []
    },
    {
      "cell_type": "markdown",
      "metadata": {
        "id": "VxNcuIfJ65LH"
      },
      "source": [
        "## Load a tutorial\n",
        "\n",
        "We will be modifying `gut_tut3` and running that to explore analyses and plotting.\n"
      ]
    },
    {
      "cell_type": "code",
      "metadata": {
        "id": "ot3uw7v94Sw1"
      },
      "source": [
        "from netpyne import specs\n",
        "\n",
        "\n",
        "#------------------------------------------------------------------------------\n",
        "#\n",
        "# NETWORK PARAMETERS\n",
        "#\n",
        "#------------------------------------------------------------------------------\n",
        "\n",
        "netParams = specs.NetParams()  # object of class NetParams to store the network parameters\n",
        "\n",
        "netParams.sizeX = 100 # x-dimension (horizontal length) size in um\n",
        "netParams.sizeY = 500 # y-dimension (vertical height or cortical depth) size in um\n",
        "netParams.sizeZ = 100 # z-dimension (horizontal length) size in um\n",
        "netParams.propVelocity = 100.0 # propagation velocity (um/ms)\n",
        "netParams.probLengthConst = 150.0 # length constant for conn probability (um)\n",
        "\n",
        "#------------------------------------------------------------------------------\n",
        "## Cell parameters\n",
        "netParams.loadCellParams(label='E', fileName='cells/CSTR_cellParams.json')\n",
        "netParams.importCellParams(label='I', fileName='cells/FScell.hoc', cellName='FScell')\n",
        "\n",
        "\n",
        "#------------------------------------------------------------------------------\n",
        "## Population parameters\n",
        "netParams.popParams['E2'] = {'cellType': 'E', 'numCells': 10, 'yRange': [50,150]}\n",
        "netParams.popParams['I2'] = {'cellType': 'I', 'numCells': 10, 'yRange': [50,150]}\n",
        "netParams.popParams['E4'] = {'cellType': 'E', 'numCells': 10, 'yRange': [150,300]}\n",
        "netParams.popParams['I4'] = {'cellType': 'I', 'numCells': 10, 'yRange': [150,300]}\n",
        "netParams.popParams['E5'] = {'cellType': 'E', 'numCells': 10, 'ynormRange': [0.6,1.0]}\n",
        "netParams.popParams['I5'] = {'cellType': 'I', 'numCells': 10, 'ynormRange': [0.6,1.0]}\n",
        "\n",
        "#------------------------------------------------------------------------------\n",
        "## Synaptic mechanism parameters\n",
        "netParams.synMechParams['exc'] = {'mod': 'Exp2Syn', 'tau1': 0.8, 'tau2': 5.3, 'e': 0}  # NMDA synaptic mechanism\n",
        "netParams.synMechParams['inh'] = {'mod': 'Exp2Syn', 'tau1': 0.6, 'tau2': 8.5, 'e': -75}  # GABA synaptic mechanism\n",
        "\n",
        "#------------------------------------------------------------------------------\n",
        "# Stimulation parameters\n",
        "netParams.stimSourceParams['bkg'] = {'type': 'NetStim', 'rate': 20, 'noise': 0.3}\n",
        "netParams.stimTargetParams['bkg->E'] = {'source': 'bkg', 'conds': {'cellType': ['E']}, 'weight': 0.02, 'sec': 'soma', 'delay': 'max(1, normal(5,2))', 'synMech': 'exc'}\n",
        "netParams.stimTargetParams['bkg->I'] = {'source': 'bkg', 'conds': {'cellType': ['I']}, 'weight': 0.004, 'sec': 'soma', 'delay': 'max(1, normal(5,2))', 'synMech': 'exc'}\n",
        "\n",
        "#------------------------------------------------------------------------------\n",
        "# Cell connectivity rules\n",
        "netParams.connParams['E->all'] = {\n",
        "  'preConds': {'cellType': 'E'}, 'postConds': {'y': [50,500]},  #  E -> all (100-1000 um)\n",
        "  'probability': 0.1,                  # probability of connection\n",
        "  'weight': '0.04*post_ynorm',         # synaptic weight \n",
        "  'delay': 'dist_3D/propVelocity',      # transmission delay (ms) \n",
        "  'synMech': 'exc'}                     # synaptic mechanism \n",
        "\n",
        "netParams.connParams['I->E'] = {\n",
        "  'preConds': {'cellType': 'I'}, 'postConds': {'pop': ['E2','E4','E5']},       #  I -> E\n",
        "  'probability': '0.3*exp(-dist_3D/probLengthConst)',   # probability of connection\n",
        "  'weight': 0.01,                                      # synaptic weight \n",
        "  'delay': 'dist_3D/propVelocity',                      # transmission delay (ms) \n",
        "  'sec': ['soma','Bdend'], \n",
        "  'synMech': 'inh'}                                     # synaptic mechanism \n",
        "\n",
        "\n",
        "#------------------------------------------------------------------------------\n",
        "## RxD params\n",
        "\n",
        "### constants\n",
        "\n",
        "## Change ip3_init from 0 to 0.1 to observe multiscale effect:  \n",
        "## netParams.rxdParams['constants']['ip3_init'] = 0.1\n",
        "## high ip3 -> ER Ca released to Cyt -> kBK channels open -> less firing \n",
        "\n",
        "constants = {'ip3_init': 0.0,  # initial ip3 concentration \n",
        "            'caDiff': 0.08,  # calcium diffusion coefficient\n",
        "            'ip3Diff': 1.41,  # ip3 diffusion coefficient\n",
        "            'caci_init': 1e-5,  # intracellular calcium initial concentration\n",
        "            'caco_init': 2.0,   # extracellular calcium initial concentration\n",
        "            'gip3r': 12040 * 100,  # ip3 receptors density\n",
        "            'gserca': 0.3913,  # SERCA conductance\n",
        "            'gleak': 6.020,   # ER leak channel conductance\n",
        "            'kserca': 0.1,  # SERCA reaction constant\n",
        "            'kip3': 0.15,  # ip3 reaction constant\n",
        "            'kact': 0.4,  #\n",
        "            'ip3rtau': 2000,  # ip3 receptors time constant\n",
        "            'fc': 0.8,  # fraction of cytosol\n",
        "            'fe': 0.2,  # fraction of ER\n",
        "            'margin': 20}  # extracellular volume additional margin \n",
        "\n",
        "netParams.rxdParams['constants'] = constants\n",
        "\n",
        "### regions\n",
        "regions = {}\n",
        "regions['cyt'] = {'cells': 'all', 'secs': 'all', 'nrn_region': 'i', 'geometry': {'class': 'FractionalVolume', 'args': {'volume_fraction': constants['fc'], 'surface_fraction': 1}}}\n",
        "regions['er'] = {'cells': 'all', 'secs': 'all', 'geometry': {'class': 'FractionalVolume', 'args': {'volume_fraction': constants['fe']}}}\n",
        "regions['cyt_er_membrane'] = {'cells': 'all', 'secs': 'all', 'geometry': {'class': 'ScalableBorder', 'args': {'scale': 1, 'on_cell_surface': False}}}\n",
        "\n",
        "margin = 20  # extracellular volume additional margin \n",
        "x, y, z = [0-margin, 100+margin], [-500-margin, 0+margin], [0-margin, 100+margin]\n",
        "regions['ecs'] = {'extracellular': True, 'xlo': x[0], 'ylo': y[0], 'zlo': z[0], 'xhi': x[1], 'yhi': y[1], 'zhi': z[1], 'dx': 5, 'volume_fraction': 0.2, 'tortuosity': 1.6} \n",
        "\n",
        "netParams.rxdParams['regions'] = regions\n",
        "\n",
        "### species \n",
        "species = {}\n",
        "species['ca'] = {'regions': ['cyt', 'er', 'ecs'], 'd': constants['caDiff'], 'charge': 2,\n",
        "                'initial': 'caco_init if isinstance(node,rxd.node.NodeExtracellular) else (0.0017 - caci_init * fc) / fe if node.region == er else caci_init'}\n",
        "species['ip3'] = {'regions': ['cyt'], 'd': constants['ip3Diff'], 'initial': constants['ip3_init']}\n",
        "netParams.rxdParams['species'] = species\n",
        "\n",
        "### states\n",
        "netParams.rxdParams['states'] = {'ip3r_gate_state': {'regions': ['cyt_er_membrane'], 'initial': 0.8}}\n",
        "\n",
        "### reactions\n",
        "minf = 'ip3[cyt] * 1000. * ca[cyt] / (ip3[cyt] + kip3) / (1000. * ca[cyt] + kact)'\n",
        "h_gate = 'ip3r_gate_state[cyt_er_membrane]'\n",
        "kip3 = 'gip3r * (%s * %s) ** 3' % (minf, h_gate)\n",
        "\n",
        "mcReactions = {}\n",
        "mcReactions['serca'] = {'reactant': 'ca[cyt]', 'product': 'ca[er]', 'rate_f': 'gserca / ((kserca / (1000. * ca[cyt])) ** 2 + 1)', 'membrane': 'cyt_er_membrane', 'custom_dynamics': True}\n",
        "mcReactions['leak'] = {'reactant': 'ca[er]', 'product': 'ca[cyt]', 'rate_f': constants['gleak'], 'rate_b': constants['gleak'], 'membrane': 'cyt_er_membrane'}\n",
        "mcReactions['ip3r'] = {'reactant': 'ca[er]', 'product': 'ca[cyt]', 'rate_f': kip3, 'rate_b': kip3, 'membrane': 'cyt_er_membrane'}\n",
        "netParams.rxdParams['multicompartmentReactions'] = mcReactions\n",
        "\n",
        "### rates\n",
        "netParams.rxdParams['rates'] = {'ip3rg': {'species': h_gate, 'rate': '(1. / (1 + 1000. * ca[cyt] / (0.3)) - %s) / ip3rtau'%(h_gate)}}\n",
        "\n",
        "\n",
        "\n",
        "\n",
        "#------------------------------------------------------------------------------\n",
        "#\n",
        "# SIMULATION CONFIGURATION\n",
        "#\n",
        "#------------------------------------------------------------------------------\n",
        "\n",
        "# Run parameters\n",
        "simConfig = specs.SimConfig()       # object of class simConfig to store simulation configuration\n",
        "simConfig.duration = 1.0*1e3        # Duration of the simulation, in ms\n",
        "simConfig.hParams['v_init'] = -65   # set v_init to -65 mV\n",
        "simConfig.dt = 0.1                  # Internal integration timestep to use\n",
        "simConfig.verbose = False            # Show detailed messages \n",
        "simConfig.recordStep = 1             # Step size in ms to save data (eg. V traces, LFP, etc)\n",
        "simConfig.filename = 'rxd_net'   # Set file output name\n",
        "\n",
        "\n",
        "# Recording/plotting parameters\n",
        "simConfig.recordTraces = {'V_soma':{'sec': 'soma','loc': 0.5,'var': 'v'},\n",
        "                          'ik_soma': {'sec': 'soma', 'loc': 0.5, 'var': 'ik'},\n",
        "                          'cai_soma': {'sec': 'soma', 'loc':0.5, 'var': 'cai'},\n",
        "                          'cao_soma': {'sec': 'soma', 'loc': 0.5, 'var': 'cao'}}\n",
        "\n",
        "simConfig.recordLFP = [[-15, y, 1.0*netParams.sizeZ] for y in range(int(netParams.sizeY/3), int(netParams.sizeY), int(netParams.sizeY/3))]\n",
        "\n",
        "#simConfig.analysis['iplotTraces'] ={'include': [0]}\n",
        "simConfig.analysis['plotTraces'] ={'include': [('E2', 0), ('I2', 0), ('E4', 0), ('I4', 0), ('E5', 0), ('I5', 0)]}\n",
        "\n",
        "#simConfig.analysis['iplotRaster'] = {'orderBy': 'y', 'orderInverse': True, 'saveFig': True, 'figSize': (9,3)}      # Plot a raster\n",
        "#simConfig.analysis['iplotLFP'] = {'includeAxon': False, 'figSize': (6,10), 'saveFig': True} \n",
        "#simConfig.analysis['iplotRxDConcentration'] = {'speciesLabel': 'ca', 'regionLabel': 'ecs'}\n"
      ],
      "execution_count": null,
      "outputs": []
    },
    {
      "cell_type": "markdown",
      "metadata": {
        "id": "grBSV-Q7B7m0"
      },
      "source": [
        "Now we will run the simulation."
      ]
    },
    {
      "cell_type": "code",
      "metadata": {
        "id": "YxETBf6o4ZKo"
      },
      "source": [
        "from netpyne import sim\n",
        "sim.createSimulateAnalyze(netParams=netParams, simConfig=simConfig)"
      ],
      "execution_count": null,
      "outputs": []
    },
    {
      "cell_type": "markdown",
      "metadata": {
        "id": "YdFBW3FLCLnN"
      },
      "source": [
        "Now we can begin exploring the analyses available in NetPyNE.\n",
        "\n",
        "## Analyses in NetPyNE\n",
        "\n",
        "Let's take a look at the NetPyNE Package Index for analysis:\n",
        "http://netpyne.org/netpyne.analysis.html#module-netpyne.analysis"
      ]
    },
    {
      "cell_type": "code",
      "metadata": {
        "id": "y1KUEz4k5WRv"
      },
      "source": [
        "%matplotlib inline"
      ],
      "execution_count": null,
      "outputs": []
    },
    {
      "cell_type": "code",
      "metadata": {
        "id": "HnfgLlZ-I1BR"
      },
      "source": [
        "sa = sim.analysis"
      ],
      "execution_count": null,
      "outputs": []
    },
    {
      "cell_type": "code",
      "metadata": {
        "id": "6tdR7PeEJ7IN"
      },
      "source": [
        "sa.plot2Dnet();"
      ],
      "execution_count": null,
      "outputs": []
    },
    {
      "cell_type": "code",
      "metadata": {
        "id": "W8gBC8ctJ6-X"
      },
      "source": [
        ""
      ],
      "execution_count": null,
      "outputs": []
    },
    {
      "cell_type": "code",
      "metadata": {
        "id": "vxUwdfpcKAJa"
      },
      "source": [
        "sa.plotConn();"
      ],
      "execution_count": null,
      "outputs": []
    },
    {
      "cell_type": "code",
      "metadata": {
        "id": "8VfaAnOpKGCL"
      },
      "source": [
        ""
      ],
      "execution_count": null,
      "outputs": []
    },
    {
      "cell_type": "code",
      "metadata": {
        "id": "iSs0pXZL8UHl"
      },
      "source": [
        "sa.plotRaster();"
      ],
      "execution_count": null,
      "outputs": []
    },
    {
      "cell_type": "code",
      "metadata": {
        "id": "7zkzJ67eJN5F"
      },
      "source": [
        ""
      ],
      "execution_count": null,
      "outputs": []
    },
    {
      "cell_type": "code",
      "metadata": {
        "id": "pMOGSbkVG74P"
      },
      "source": [
        "sa.plotRateSpectrogram();"
      ],
      "execution_count": null,
      "outputs": []
    },
    {
      "cell_type": "code",
      "metadata": {
        "id": "AitZZEXRG8rC"
      },
      "source": [
        ""
      ],
      "execution_count": null,
      "outputs": []
    },
    {
      "cell_type": "code",
      "metadata": {
        "id": "KaKF75Z7IJW5"
      },
      "source": [
        "sa.plotSpikeHist();"
      ],
      "execution_count": null,
      "outputs": []
    },
    {
      "cell_type": "code",
      "metadata": {
        "id": "ezoVkKHBIJZf"
      },
      "source": [
        ""
      ],
      "execution_count": null,
      "outputs": []
    },
    {
      "cell_type": "code",
      "metadata": {
        "id": "xiOjsRCIIJd5"
      },
      "source": [
        "sa.plotSpikeStats();"
      ],
      "execution_count": null,
      "outputs": []
    },
    {
      "cell_type": "code",
      "metadata": {
        "id": "buJdXx4GIJmI"
      },
      "source": [
        ""
      ],
      "execution_count": null,
      "outputs": []
    },
    {
      "cell_type": "code",
      "metadata": {
        "id": "7-Fy9mfaIJol"
      },
      "source": [
        "sa.plotTraces();"
      ],
      "execution_count": null,
      "outputs": []
    },
    {
      "cell_type": "code",
      "metadata": {
        "id": "p0HU13QRIJq-"
      },
      "source": [
        ""
      ],
      "execution_count": null,
      "outputs": []
    },
    {
      "cell_type": "code",
      "metadata": {
        "id": "f8c0KO_SIJta"
      },
      "source": [
        "sa.plotLFP();"
      ],
      "execution_count": null,
      "outputs": []
    },
    {
      "cell_type": "code",
      "metadata": {
        "id": "hG07GrYWIJv3"
      },
      "source": [
        ""
      ],
      "execution_count": null,
      "outputs": []
    },
    {
      "cell_type": "code",
      "metadata": {
        "id": "UbnIkgDiIJyP"
      },
      "source": [
        "sa.plotRxDConcentration(speciesLabel='ca', regionLabel='ecs');"
      ],
      "execution_count": null,
      "outputs": []
    },
    {
      "cell_type": "code",
      "metadata": {
        "id": "Z073XSVZIJ0Z"
      },
      "source": [
        ""
      ],
      "execution_count": null,
      "outputs": []
    },
    {
      "cell_type": "code",
      "metadata": {
        "id": "TKRh_vTPIJ6v"
      },
      "source": [
        ""
      ],
      "execution_count": null,
      "outputs": []
    },
    {
      "cell_type": "code",
      "metadata": {
        "id": "a2WthFkxIJ9E"
      },
      "source": [
        ""
      ],
      "execution_count": null,
      "outputs": []
    },
    {
      "cell_type": "code",
      "metadata": {
        "id": "XD7E_q-eIJ_U"
      },
      "source": [
        ""
      ],
      "execution_count": null,
      "outputs": []
    },
    {
      "cell_type": "code",
      "metadata": {
        "id": "djzxMEVZIKBz"
      },
      "source": [
        ""
      ],
      "execution_count": null,
      "outputs": []
    },
    {
      "cell_type": "code",
      "metadata": {
        "id": "Mmv5t60aIKEJ"
      },
      "source": [
        ""
      ],
      "execution_count": null,
      "outputs": []
    },
    {
      "cell_type": "code",
      "metadata": {
        "id": "zYG8SJH3IKGP"
      },
      "source": [
        ""
      ],
      "execution_count": null,
      "outputs": []
    }
  ]
}